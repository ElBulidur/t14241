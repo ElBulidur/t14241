{
 "cells": [
  {
   "cell_type": "code",
   "execution_count": 15,
   "metadata": {},
   "outputs": [
    {
     "name": "stdout",
     "output_type": "stream",
     "text": [
      "Turma A: ['Jefferson', 'Lucas', 'Meggy']\n",
      "Turma B: ['Paulo', 'Talita', 'Ana']\n"
     ]
    },
    {
     "data": {
      "text/plain": [
       "{'aluno': 4, 'disciplina': 2, 'nota': 4}"
      ]
     },
     "execution_count": 15,
     "metadata": {},
     "output_type": "execute_result"
    }
   ],
   "source": [
    "import pandas as pd\n",
    "from numpy.random import randint\n",
    "\n",
    "#Criando a series alunos\n",
    "alunos = ['Jefferson','Lucas','Meggy','Paulo','Talita','Ana']\n",
    "s_alunos = pd.Series(range(len(alunos)), index=alunos)\n",
    "\n",
    "#Criando a series Disciplinas\n",
    "disciplinas = ['series', 'dataframe', 'plotagem', 'machine learning']\n",
    "s_disciplinas = pd.Series(range(len(disciplinas)), index=disciplinas)\n",
    "\n",
    "# Definindos turmas\n",
    "alunos_turma_a = ['Jefferson','Lucas','Meggy']\n",
    "alunos_turma_b = ['Paulo','Talita','Ana']\n",
    "\n",
    "# Notas\n",
    "def gera_nota(aluno, disciplina):\n",
    "    return {'aluno':s_alunos[aluno], 'disciplina': s_disciplinas[disciplina], 'nota': randint(1,10)}\n",
    "\n",
    "print(f'Turma A: {alunos_turma_a}\\nTurma B: {alunos_turma_b}')\n",
    "gera_nota('Talita', 'plotagem')"
   ]
  },
  {
   "cell_type": "code",
   "execution_count": 22,
   "metadata": {},
   "outputs": [
    {
     "data": {
      "text/html": [
       "<div>\n",
       "<style scoped>\n",
       "    .dataframe tbody tr th:only-of-type {\n",
       "        vertical-align: middle;\n",
       "    }\n",
       "\n",
       "    .dataframe tbody tr th {\n",
       "        vertical-align: top;\n",
       "    }\n",
       "\n",
       "    .dataframe thead th {\n",
       "        text-align: right;\n",
       "    }\n",
       "</style>\n",
       "<table border=\"1\" class=\"dataframe\">\n",
       "  <thead>\n",
       "    <tr style=\"text-align: right;\">\n",
       "      <th></th>\n",
       "      <th>aluno</th>\n",
       "      <th>disciplina</th>\n",
       "      <th>nota</th>\n",
       "    </tr>\n",
       "  </thead>\n",
       "  <tbody>\n",
       "    <tr>\n",
       "      <th>0</th>\n",
       "      <td>0</td>\n",
       "      <td>0</td>\n",
       "      <td>3</td>\n",
       "    </tr>\n",
       "    <tr>\n",
       "      <th>1</th>\n",
       "      <td>0</td>\n",
       "      <td>1</td>\n",
       "      <td>9</td>\n",
       "    </tr>\n",
       "  </tbody>\n",
       "</table>\n",
       "</div>"
      ],
      "text/plain": [
       "   aluno  disciplina  nota\n",
       "0      0           0     3\n",
       "1      0           1     9"
      ]
     },
     "execution_count": 22,
     "metadata": {},
     "output_type": "execute_result"
    }
   ],
   "source": [
    "notas_por_aluno = []\n",
    "\n",
    "for aluno in alunos_turma_a:\n",
    "    for disciplina in disciplinas:\n",
    "        notas_por_aluno.append(gera_nota(aluno,disciplina))\n",
    "        \n",
    "notas_por_aluno\n",
    "\n",
    "df_turma_a = pd.DataFrame(notas_por_aluno)\n",
    "df_turma_a.head(2)"
   ]
  },
  {
   "cell_type": "code",
   "execution_count": 25,
   "metadata": {},
   "outputs": [
    {
     "data": {
      "text/html": [
       "<div>\n",
       "<style scoped>\n",
       "    .dataframe tbody tr th:only-of-type {\n",
       "        vertical-align: middle;\n",
       "    }\n",
       "\n",
       "    .dataframe tbody tr th {\n",
       "        vertical-align: top;\n",
       "    }\n",
       "\n",
       "    .dataframe thead th {\n",
       "        text-align: right;\n",
       "    }\n",
       "</style>\n",
       "<table border=\"1\" class=\"dataframe\">\n",
       "  <thead>\n",
       "    <tr style=\"text-align: right;\">\n",
       "      <th></th>\n",
       "      <th>aluno</th>\n",
       "      <th>disciplina</th>\n",
       "      <th>nota</th>\n",
       "    </tr>\n",
       "  </thead>\n",
       "  <tbody>\n",
       "    <tr>\n",
       "      <th>0</th>\n",
       "      <td>3</td>\n",
       "      <td>0</td>\n",
       "      <td>6</td>\n",
       "    </tr>\n",
       "    <tr>\n",
       "      <th>1</th>\n",
       "      <td>3</td>\n",
       "      <td>1</td>\n",
       "      <td>9</td>\n",
       "    </tr>\n",
       "  </tbody>\n",
       "</table>\n",
       "</div>"
      ],
      "text/plain": [
       "   aluno  disciplina  nota\n",
       "0      3           0     6\n",
       "1      3           1     9"
      ]
     },
     "execution_count": 25,
     "metadata": {},
     "output_type": "execute_result"
    }
   ],
   "source": [
    "notas_por_aluno = []\n",
    "\n",
    "for aluno in alunos_turma_b:\n",
    "    for disciplina in disciplinas:\n",
    "        notas_por_aluno.append(gera_nota(aluno,disciplina))\n",
    "        \n",
    "notas_por_aluno\n",
    "\n",
    "df_turma_b = pd.DataFrame(notas_por_aluno)\n",
    "df_turma_b.head(2)"
   ]
  }
 ],
 "metadata": {
  "kernelspec": {
   "display_name": "Python 3",
   "language": "python",
   "name": "python3"
  },
  "language_info": {
   "codemirror_mode": {
    "name": "ipython",
    "version": 3
   },
   "file_extension": ".py",
   "mimetype": "text/x-python",
   "name": "python",
   "nbconvert_exporter": "python",
   "pygments_lexer": "ipython3",
   "version": "3.10.8"
  },
  "orig_nbformat": 4,
  "vscode": {
   "interpreter": {
    "hash": "3196968d684371006099b3d55edeef8ed90365227a30deaef86e5d4aa8519be0"
   }
  }
 },
 "nbformat": 4,
 "nbformat_minor": 2
}
