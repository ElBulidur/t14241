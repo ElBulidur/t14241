{
 "cells": [
  {
   "cell_type": "code",
   "execution_count": 15,
   "metadata": {},
   "outputs": [
    {
     "name": "stdout",
     "output_type": "stream",
     "text": [
      "Turma A: ['Jefferson', 'Lucas', 'Meggy']\n",
      "Turma B: ['Paulo', 'Talita', 'Ana']\n"
     ]
    },
    {
     "data": {
      "text/plain": [
       "{'aluno': 4, 'disciplina': 2, 'nota': 4}"
      ]
     },
     "execution_count": 15,
     "metadata": {},
     "output_type": "execute_result"
    }
   ],
   "source": [
    "import pandas as pd\n",
    "from numpy.random import randint\n",
    "\n",
    "#Criando a series alunos\n",
    "alunos = ['Jefferson','Lucas','Meggy','Paulo','Talita','Ana']\n",
    "s_alunos = pd.Series(range(len(alunos)), index=alunos)\n",
    "\n",
    "#Criando a series Disciplinas\n",
    "disciplinas = ['series', 'dataframe', 'plotagem', 'machine learning']\n",
    "s_disciplinas = pd.Series(range(len(disciplinas)), index=disciplinas)\n",
    "\n",
    "# Definindos turmas\n",
    "alunos_turma_a = ['Jefferson','Lucas','Meggy']\n",
    "alunos_turma_b = ['Paulo','Talita','Ana']\n",
    "\n",
    "# Notas\n",
    "def gera_nota(aluno, disciplina):\n",
    "    return {'aluno':s_alunos[aluno], 'disciplina': s_disciplinas[disciplina], 'nota': randint(1,10)}\n",
    "\n",
    "print(f'Turma A: {alunos_turma_a}\\nTurma B: {alunos_turma_b}')\n",
    "gera_nota('Talita', 'plotagem')"
   ]
  },
  {
   "cell_type": "code",
   "execution_count": 22,
   "metadata": {},
   "outputs": [
    {
     "data": {
      "text/html": [
       "<div>\n",
       "<style scoped>\n",
       "    .dataframe tbody tr th:only-of-type {\n",
       "        vertical-align: middle;\n",
       "    }\n",
       "\n",
       "    .dataframe tbody tr th {\n",
       "        vertical-align: top;\n",
       "    }\n",
       "\n",
       "    .dataframe thead th {\n",
       "        text-align: right;\n",
       "    }\n",
       "</style>\n",
       "<table border=\"1\" class=\"dataframe\">\n",
       "  <thead>\n",
       "    <tr style=\"text-align: right;\">\n",
       "      <th></th>\n",
       "      <th>aluno</th>\n",
       "      <th>disciplina</th>\n",
       "      <th>nota</th>\n",
       "    </tr>\n",
       "  </thead>\n",
       "  <tbody>\n",
       "    <tr>\n",
       "      <th>0</th>\n",
       "      <td>0</td>\n",
       "      <td>0</td>\n",
       "      <td>3</td>\n",
       "    </tr>\n",
       "    <tr>\n",
       "      <th>1</th>\n",
       "      <td>0</td>\n",
       "      <td>1</td>\n",
       "      <td>9</td>\n",
       "    </tr>\n",
       "  </tbody>\n",
       "</table>\n",
       "</div>"
      ],
      "text/plain": [
       "   aluno  disciplina  nota\n",
       "0      0           0     3\n",
       "1      0           1     9"
      ]
     },
     "execution_count": 22,
     "metadata": {},
     "output_type": "execute_result"
    }
   ],
   "source": [
    "notas_por_aluno = []\n",
    "\n",
    "for aluno in alunos_turma_a:\n",
    "    for disciplina in disciplinas:\n",
    "        notas_por_aluno.append(gera_nota(aluno,disciplina))\n",
    "        \n",
    "notas_por_aluno\n",
    "\n",
    "df_turma_a = pd.DataFrame(notas_por_aluno)\n",
    "df_turma_a.head(2)"
   ]
  },
  {
   "cell_type": "code",
   "execution_count": 25,
   "metadata": {},
   "outputs": [
    {
     "data": {
      "text/html": [
       "<div>\n",
       "<style scoped>\n",
       "    .dataframe tbody tr th:only-of-type {\n",
       "        vertical-align: middle;\n",
       "    }\n",
       "\n",
       "    .dataframe tbody tr th {\n",
       "        vertical-align: top;\n",
       "    }\n",
       "\n",
       "    .dataframe thead th {\n",
       "        text-align: right;\n",
       "    }\n",
       "</style>\n",
       "<table border=\"1\" class=\"dataframe\">\n",
       "  <thead>\n",
       "    <tr style=\"text-align: right;\">\n",
       "      <th></th>\n",
       "      <th>aluno</th>\n",
       "      <th>disciplina</th>\n",
       "      <th>nota</th>\n",
       "    </tr>\n",
       "  </thead>\n",
       "  <tbody>\n",
       "    <tr>\n",
       "      <th>0</th>\n",
       "      <td>3</td>\n",
       "      <td>0</td>\n",
       "      <td>6</td>\n",
       "    </tr>\n",
       "    <tr>\n",
       "      <th>1</th>\n",
       "      <td>3</td>\n",
       "      <td>1</td>\n",
       "      <td>9</td>\n",
       "    </tr>\n",
       "  </tbody>\n",
       "</table>\n",
       "</div>"
      ],
      "text/plain": [
       "   aluno  disciplina  nota\n",
       "0      3           0     6\n",
       "1      3           1     9"
      ]
     },
     "execution_count": 25,
     "metadata": {},
     "output_type": "execute_result"
    }
   ],
   "source": [
    "notas_por_aluno = []\n",
    "\n",
    "for aluno in alunos_turma_b:\n",
    "    for disciplina in disciplinas:\n",
    "        notas_por_aluno.append(gera_nota(aluno,disciplina))\n",
    "        \n",
    "notas_por_aluno\n",
    "\n",
    "df_turma_b = pd.DataFrame(notas_por_aluno)\n",
    "df_turma_b.head(2)"
   ]
  },
  {
   "cell_type": "markdown",
   "metadata": {},
   "source": [
    "\n",
    "- Media = média aritmetica\n",
    "- Mediana = o valor central (no centro da distribuição)\n",
    "- Moda = o valor que se repete mais vezes (o que possui a maior frequencia)"
   ]
  },
  {
   "cell_type": "code",
   "execution_count": 34,
   "metadata": {},
   "outputs": [
    {
     "name": "stdout",
     "output_type": "stream",
     "text": [
      "Notas: [3, 9, 6, 3, 6, 4, 4, 1, 8, 4, 3, 6]\n",
      "Media: 4.75\n",
      "Media_np: 4.75\n",
      "Media_df: 4.75\n"
     ]
    }
   ],
   "source": [
    "# MEDIA\n",
    "import numpy as np\n",
    "\n",
    "notas = list(df_turma_a.nota)\n",
    "print(f'Notas: {notas}')\n",
    "\n",
    "media = sum(notas)/len(notas)\n",
    "print(f'Media: {media}')\n",
    "\n",
    "media_np = np.mean(notas)\n",
    "print(f'Media_np: {media_np}')\n",
    "\n",
    "media_df = df_turma_a.nota.mean()\n",
    "print(f'Media_df: {media_df}')\n"
   ]
  },
  {
   "cell_type": "code",
   "execution_count": 35,
   "metadata": {},
   "outputs": [
    {
     "name": "stdout",
     "output_type": "stream",
     "text": [
      "Mediana: 4\n"
     ]
    }
   ],
   "source": [
    "# mediana = VALOR CENTRAL\n",
    "\n",
    "numeros = [1,9,3,4,5] \n",
    "qtd_numeros = len(numeros)\n",
    "numeros.sort() # [1,3,4,5,9]\n",
    "\n",
    "if qtd_numeros % 2 == 0:\n",
    "    mediana_1 = numeros[qtd_numeros//2]\n",
    "    mediana_2 = numeros[qtd_numeros//2 - 1]\n",
    "    mediana = (mediana_1 + mediana_2)/2\n",
    "else:\n",
    "    mediana = numeros[qtd_numeros//2]\n",
    "\n",
    "print(f'Mediana: {mediana}')"
   ]
  },
  {
   "cell_type": "code",
   "execution_count": 38,
   "metadata": {},
   "outputs": [
    {
     "name": "stdout",
     "output_type": "stream",
     "text": [
      "Notas: [3, 9, 6, 3, 6, 4, 4, 1, 8, 4, 3, 6]\n",
      "Mediaana_np: 4.0\n",
      "Mediana_df: 4.0\n"
     ]
    }
   ],
   "source": [
    "import numpy as np\n",
    "\n",
    "notas = list(df_turma_a.nota)\n",
    "print(f'Notas: {notas}')\n",
    "\n",
    "mediana_np = np.median(notas)\n",
    "print(f'Mediaana_np: {mediana_np}')\n",
    "\n",
    "mediana_df = df_turma_a.nota.median()\n",
    "print(f'Mediana_df: {mediana_df}')"
   ]
  },
  {
   "cell_type": "code",
   "execution_count": 41,
   "metadata": {},
   "outputs": [
    {
     "name": "stdout",
     "output_type": "stream",
     "text": [
      "Moda: 6\n",
      "Frequencia: 3\n",
      "Usando o Statistics: 6\n"
     ]
    }
   ],
   "source": [
    "import statistics\n",
    "numeros = [1,2,3,4,5,5,6,7,6,8,9,6]\n",
    "\n",
    "frequencia = {} # {'1':1}\n",
    "\n",
    "for numero in numeros:\n",
    "    frequencia[numero] = numeros.count(numero)\n",
    "    \n",
    "chave = max(frequencia, key=frequencia.get)\n",
    "valor = frequencia[chave]\n",
    "\n",
    "print(f'Moda: {chave}')\n",
    "print(f'Frequencia: {valor}')\n",
    "\n",
    "print(f'Usando o Statistics: {statistics.mode(numeros)}')"
   ]
  },
  {
   "cell_type": "code",
   "execution_count": 44,
   "metadata": {},
   "outputs": [
    {
     "name": "stdout",
     "output_type": "stream",
     "text": [
      "Notas: [3, 9, 6, 3, 6, 4, 4, 1, 8, 4, 3, 6]\n",
      "Moda_df: 0    3\n",
      "1    4\n",
      "2    6\n",
      "Name: nota, dtype: int64\n",
      "Moda_st: ModeResult(mode=array([3], dtype=int64), count=array([3]))\n"
     ]
    },
    {
     "name": "stderr",
     "output_type": "stream",
     "text": [
      "C:\\Users\\Administrator\\AppData\\Local\\Temp\\ipykernel_2848\\3017889046.py:8: FutureWarning: Unlike other reduction functions (e.g. `skew`, `kurtosis`), the default behavior of `mode` typically preserves the axis it acts along. In SciPy 1.11.0, this behavior will change: the default value of `keepdims` will become False, the `axis` over which the statistic is taken will be eliminated, and the value None will no longer be accepted. Set `keepdims` to True or False to avoid this warning.\n",
      "  moda_st = stats.mode(df_turma_a.nota)\n"
     ]
    }
   ],
   "source": [
    "from scipy import stats\n",
    "notas = list(df_turma_a.nota)\n",
    "print(f'Notas: {notas}')\n",
    "\n",
    "moda_df = df_turma_a.nota.mode()\n",
    "print(f'Moda_df: {moda_df}')\n",
    "\n",
    "moda_st = stats.mode(df_turma_a.nota)\n",
    "print(f'Moda_st: {moda_st}')"
   ]
  },
  {
   "cell_type": "code",
   "execution_count": 52,
   "metadata": {},
   "outputs": [
    {
     "name": "stdout",
     "output_type": "stream",
     "text": [
      "Var: 6.222222222222221\n",
      "var_st: 9.333333333333334\n",
      "var_np: 6.222222222222221\n"
     ]
    }
   ],
   "source": [
    "# Varianca\n",
    "# media\n",
    "#valores - media elevado a dois\n",
    "# somaria divida pela total de numeros\n",
    "\n",
    "numeros = [1,7,3]\n",
    "\n",
    "media = np.mean(numeros)\n",
    "\n",
    "num_1 = (numeros[0] - media) ** 2\n",
    "num_2 = (numeros[1] - media) ** 2\n",
    "num_3 = (numeros[2] - media) ** 2\n",
    "\n",
    "var = (num_1 + num_2 + num_3)/  3\n",
    "print(f'Var: {var}')\n",
    "\n",
    "var_st = statistics.variance(numeros)\n",
    "print(f'var_st: {var_st}')\n",
    "\n",
    "var_np = np.var(numeros)\n",
    "print(f'var_np: {var_np}')"
   ]
  },
  {
   "cell_type": "code",
   "execution_count": 53,
   "metadata": {},
   "outputs": [
    {
     "name": "stdout",
     "output_type": "stream",
     "text": [
      "Notas: [3, 9, 6, 3, 6, 4, 4, 1, 8, 4, 3, 6]\n",
      "var_np: 4.854166666666667\n",
      "var_df: 5.295454545454546\n",
      "var_st: 5.295454545454546\n"
     ]
    }
   ],
   "source": [
    "notas = list(df_turma_a.nota)\n",
    "print(f'Notas: {notas}')\n",
    "\n",
    "var_np = np.var(df_turma_a.nota)\n",
    "print(f'var_np: {var_np}')\n",
    "\n",
    "var_df = df_turma_a.nota.var()\n",
    "print(f'var_df: {var_df}')\n",
    "\n",
    "var_st = statistics.variance(notas)\n",
    "print(f'var_st: {var_st}')"
   ]
  }
 ],
 "metadata": {
  "kernelspec": {
   "display_name": "Python 3",
   "language": "python",
   "name": "python3"
  },
  "language_info": {
   "codemirror_mode": {
    "name": "ipython",
    "version": 3
   },
   "file_extension": ".py",
   "mimetype": "text/x-python",
   "name": "python",
   "nbconvert_exporter": "python",
   "pygments_lexer": "ipython3",
   "version": "3.10.8"
  },
  "orig_nbformat": 4,
  "vscode": {
   "interpreter": {
    "hash": "3196968d684371006099b3d55edeef8ed90365227a30deaef86e5d4aa8519be0"
   }
  }
 },
 "nbformat": 4,
 "nbformat_minor": 2
}
