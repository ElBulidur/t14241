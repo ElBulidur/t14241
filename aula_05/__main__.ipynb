{
 "cells": [
  {
   "cell_type": "markdown",
   "metadata": {},
   "source": [
    "# RESOLUCOES DOS LABORATORIOS"
   ]
  },
  {
   "cell_type": "code",
   "execution_count": 7,
   "metadata": {},
   "outputs": [],
   "source": [
    "# Importado as bibliotecas\n",
    "import numpy as np\n",
    "import pandas as pd\n",
    "import matplotlib.pyplot as plt\n",
    "import seaborn as sns"
   ]
  },
  {
   "cell_type": "code",
   "execution_count": 3,
   "metadata": {},
   "outputs": [
    {
     "data": {
      "text/plain": [
       "1.25"
      ]
     },
     "execution_count": 3,
     "metadata": {},
     "output_type": "execute_result"
    }
   ],
   "source": [
    "# MOD01\n",
    "# LAB01\n",
    "\n",
    "# Sistemas de recomendação,\n",
    "# Gerenciamento de riscos financeiros,\n",
    "# Melhoria em serviços de saúde,\n",
    "# Reconhecimento de imagens,\n",
    "# Gerenciamento eficiente de energia:\n",
    "\n",
    "# LAB02\n",
    "\n",
    "# NumPy é o pacote fundamental para computação científica em Python. \n",
    "# É uma biblioteca Python que fornece um objeto array multidimensional, \n",
    "# vários objetos derivados (como arrays e matrizes mascarados) e uma \n",
    "# variedade de rotinas para operações rápidas em arrays, incluindo matemática, \n",
    "# lógica, manipulação de formas, classificação, seleção, E/S, \n",
    "# transformadas discretas de Fourier, álgebra linear básica, \n",
    "# operações estatísticas básicas, simulação aleatória e muito mais."
   ]
  },
  {
   "cell_type": "code",
   "execution_count": 40,
   "metadata": {},
   "outputs": [
    {
     "name": "stderr",
     "output_type": "stream",
     "text": [
      "C:\\Users\\Administrator\\AppData\\Local\\Temp\\ipykernel_1592\\3024308271.py:28: FutureWarning: The frame.append method is deprecated and will be removed from pandas in a future version. Use pandas.concat instead.\n",
      "  df = clientes.append(pedidos)\n"
     ]
    },
    {
     "data": {
      "text/html": [
       "<div>\n",
       "<style scoped>\n",
       "    .dataframe tbody tr th:only-of-type {\n",
       "        vertical-align: middle;\n",
       "    }\n",
       "\n",
       "    .dataframe tbody tr th {\n",
       "        vertical-align: top;\n",
       "    }\n",
       "\n",
       "    .dataframe thead th {\n",
       "        text-align: right;\n",
       "    }\n",
       "</style>\n",
       "<table border=\"1\" class=\"dataframe\">\n",
       "  <thead>\n",
       "    <tr style=\"text-align: right;\">\n",
       "      <th></th>\n",
       "      <th>CODCLI</th>\n",
       "      <th>NOME</th>\n",
       "      <th>QTD</th>\n",
       "    </tr>\n",
       "  </thead>\n",
       "  <tbody>\n",
       "    <tr>\n",
       "      <th>556</th>\n",
       "      <td>622</td>\n",
       "      <td>MULTIACESSO BRINDES E COM VISUAL</td>\n",
       "      <td>15</td>\n",
       "    </tr>\n",
       "    <tr>\n",
       "      <th>557</th>\n",
       "      <td>623</td>\n",
       "      <td>MANOEL GOMES FILHO</td>\n",
       "      <td>20</td>\n",
       "    </tr>\n",
       "    <tr>\n",
       "      <th>558</th>\n",
       "      <td>624</td>\n",
       "      <td>SILVIO LUIZ RODRIGUES M.E.</td>\n",
       "      <td>21</td>\n",
       "    </tr>\n",
       "    <tr>\n",
       "      <th>559</th>\n",
       "      <td>625</td>\n",
       "      <td>IGLESIAS BRINDES</td>\n",
       "      <td>18</td>\n",
       "    </tr>\n",
       "    <tr>\n",
       "      <th>560</th>\n",
       "      <td>626</td>\n",
       "      <td>PROGERAL IND. DE ARTEFATOS PLASTICOS LTDA.</td>\n",
       "      <td>23</td>\n",
       "    </tr>\n",
       "  </tbody>\n",
       "</table>\n",
       "</div>"
      ],
      "text/plain": [
       "     CODCLI                                        NOME  QTD\n",
       "556     622            MULTIACESSO BRINDES E COM VISUAL   15\n",
       "557     623                          MANOEL GOMES FILHO   20\n",
       "558     624                  SILVIO LUIZ RODRIGUES M.E.   21\n",
       "559     625                            IGLESIAS BRINDES   18\n",
       "560     626  PROGERAL IND. DE ARTEFATOS PLASTICOS LTDA.   23"
      ]
     },
     "execution_count": 40,
     "metadata": {},
     "output_type": "execute_result"
    }
   ],
   "source": [
    "# MOD 02\n",
    "# LAB 01\n",
    "\n",
    "#dataset => 562 linhas e 21 colunas\n",
    "# colunas\n",
    "# 'CODCLI', 'NOME', 'FANTASIA', 'ENDERECO', 'BAIRRO', \n",
    "# 'CIDADE', 'ESTADO', 'CEP', 'END_COB', 'BAI_COB', \n",
    "# 'CID_COB', 'EST_COB', 'CEP_COB', 'CNPJ',\n",
    "# 'INSCRICAO', 'FONE1', 'FAX', 'E_MAIL', 'DATA_CAD', 'ICMS',\n",
    "# 'REVENDA_CONSUMIDOR'\n",
    "clientes = pd.read_csv('mod_02/clientes.csv', sep=';')\n",
    "# print(clientes.head(2))\n",
    "\n",
    "#dataset => 11322 linhas e 7 colunas \n",
    "# 'NUM_PEDIDO', 'CODCLI', 'CODVEN', 'DATA_EMISSAO', 'VLR_TOTAL', 'SITUACAO', 'OBSERVACOES'\n",
    "pedidos = pd.read_csv('mod_02/pedidos.csv', sep=';')\n",
    "# pedidos.head(2)\n",
    "\n",
    "frames = [clientes, pedidos]\n",
    "\n",
    "# Concaternar (uniao)\n",
    "df = pd.concat(frames)\n",
    "\n",
    "# Juncao\n",
    "df = pd.concat(frames, axis=1, join='inner')\n",
    "\n",
    "# metodo ja foi utilizado muito\n",
    "df = clientes.append(pedidos)\n",
    "\n",
    "merger = pd.merge(clientes[['CODCLI', 'NOME']], pedidos[['CODCLI','VLR_TOTAL']], on='CODCLI')\n",
    "\n",
    "agrupado = merger.groupby(['CODCLI', 'NOME']).count().reset_index()\n",
    "\n",
    "df = agrupado.rename(columns={'VLR_TOTAL': 'QTD'}, inplace=True) #inplace=True => serve para fixar a funcao\n",
    "\n",
    "agrupado.tail()"
   ]
  },
  {
   "cell_type": "code",
   "execution_count": 50,
   "metadata": {},
   "outputs": [
    {
     "data": {
      "text/html": [
       "<div>\n",
       "<style scoped>\n",
       "    .dataframe tbody tr th:only-of-type {\n",
       "        vertical-align: middle;\n",
       "    }\n",
       "\n",
       "    .dataframe tbody tr th {\n",
       "        vertical-align: top;\n",
       "    }\n",
       "\n",
       "    .dataframe thead th {\n",
       "        text-align: right;\n",
       "    }\n",
       "</style>\n",
       "<table border=\"1\" class=\"dataframe\">\n",
       "  <thead>\n",
       "    <tr style=\"text-align: right;\">\n",
       "      <th></th>\n",
       "      <th>NUM_PEDIDO</th>\n",
       "      <th>DATA_EMISSAO</th>\n",
       "      <th>QUANTIDADE</th>\n",
       "      <th>PR_UNITARIO</th>\n",
       "      <th>TOTAL</th>\n",
       "    </tr>\n",
       "  </thead>\n",
       "  <tbody>\n",
       "    <tr>\n",
       "      <th>0</th>\n",
       "      <td>2</td>\n",
       "      <td>2012-12-18 01:53:13.497</td>\n",
       "      <td>90</td>\n",
       "      <td>1.12</td>\n",
       "      <td>100.80</td>\n",
       "    </tr>\n",
       "    <tr>\n",
       "      <th>1</th>\n",
       "      <td>3</td>\n",
       "      <td>2012-12-18 01:53:13.497</td>\n",
       "      <td>70</td>\n",
       "      <td>2.60</td>\n",
       "      <td>182.00</td>\n",
       "    </tr>\n",
       "    <tr>\n",
       "      <th>2</th>\n",
       "      <td>4</td>\n",
       "      <td>2012-12-18 01:53:13.497</td>\n",
       "      <td>500</td>\n",
       "      <td>3.81</td>\n",
       "      <td>1905.00</td>\n",
       "    </tr>\n",
       "    <tr>\n",
       "      <th>3</th>\n",
       "      <td>5</td>\n",
       "      <td>2012-12-18 01:53:13.497</td>\n",
       "      <td>60</td>\n",
       "      <td>2.54</td>\n",
       "      <td>152.40</td>\n",
       "    </tr>\n",
       "    <tr>\n",
       "      <th>4</th>\n",
       "      <td>6</td>\n",
       "      <td>2012-12-18 01:53:13.497</td>\n",
       "      <td>1005</td>\n",
       "      <td>15.77</td>\n",
       "      <td>15848.85</td>\n",
       "    </tr>\n",
       "  </tbody>\n",
       "</table>\n",
       "</div>"
      ],
      "text/plain": [
       "   NUM_PEDIDO             DATA_EMISSAO  QUANTIDADE  PR_UNITARIO     TOTAL\n",
       "0           2  2012-12-18 01:53:13.497          90         1.12    100.80\n",
       "1           3  2012-12-18 01:53:13.497          70         2.60    182.00\n",
       "2           4  2012-12-18 01:53:13.497         500         3.81   1905.00\n",
       "3           5  2012-12-18 01:53:13.497          60         2.54    152.40\n",
       "4           6  2012-12-18 01:53:13.497        1005        15.77  15848.85"
      ]
     },
     "execution_count": 50,
     "metadata": {},
     "output_type": "execute_result"
    }
   ],
   "source": [
    "# MOD 02\n",
    "# LAB 02\n",
    "\n",
    "pedidos = pd.read_csv('mod_02/pedidos.csv', sep=';')\n",
    "i_pedidos = pd.read_csv('mod_02/itenspedido.csv', sep=';')\n",
    "\n",
    "i_pedidos.head()\n",
    "\n",
    "merger = pd.merge(pedidos[['NUM_PEDIDO', 'DATA_EMISSAO']], i_pedidos[['NUM_PEDIDO','QUANTIDADE', 'PR_UNITARIO']], on='NUM_PEDIDO')\n",
    "\n",
    "df = merger.groupby(['NUM_PEDIDO', 'DATA_EMISSAO']).sum().reset_index()\n",
    "\n",
    "df['TOTAL'] = df['QUANTIDADE'] * df['PR_UNITARIO']\n",
    "\n",
    "df.head()"
   ]
  },
  {
   "cell_type": "code",
   "execution_count": 57,
   "metadata": {},
   "outputs": [
    {
     "name": "stdout",
     "output_type": "stream",
     "text": [
      "2021-09-24\n",
      "24\n",
      "9\n",
      "2021\n"
     ]
    }
   ],
   "source": [
    "import datetime as dt\n",
    "\n",
    "data = dt.date.today()\n",
    "data1 = dt.date(2021,9,24)\n",
    "print(data1)\n",
    "print(data1.day)\n",
    "print(data1.month)\n",
    "print(data1.year)\n"
   ]
  },
  {
   "cell_type": "code",
   "execution_count": 63,
   "metadata": {},
   "outputs": [
    {
     "name": "stderr",
     "output_type": "stream",
     "text": [
      "C:\\Users\\Administrator\\AppData\\Local\\Temp\\ipykernel_1592\\248192870.py:2: UserWarning: Parsing dates in DD/MM/YYYY format when dayfirst=False (the default) was specified. This may lead to inconsistently parsed dates! Specify a format to ensure consistent parsing.\n",
      "  ts1 = pd.Timestamp('29/11/2001')\n"
     ]
    },
    {
     "data": {
      "text/plain": [
       "Timestamp('2021-08-30 00:00:00')"
      ]
     },
     "execution_count": 63,
     "metadata": {},
     "output_type": "execute_result"
    }
   ],
   "source": [
    "# formatos\n",
    "ts = pd.Timestamp('2021-08-30')\n",
    "ts1 = pd.Timestamp('29/11/2001')\n",
    "ts2 = pd.Timestamp('05/28/2001')\n",
    "ts"
   ]
  },
  {
   "cell_type": "code",
   "execution_count": 77,
   "metadata": {},
   "outputs": [
    {
     "name": "stderr",
     "output_type": "stream",
     "text": [
      "C:\\Users\\Administrator\\AppData\\Local\\Temp\\ipykernel_1592\\1860074240.py:1: UserWarning: Parsing dates in DD/MM/YYYY format when dayfirst=False (the default) was specified. This may lead to inconsistently parsed dates! Specify a format to ensure consistent parsing.\n",
      "  index = pd.DatetimeIndex(['2021-08-30','29/11/2022','05/28/2023','05/28/2024'])\n"
     ]
    },
    {
     "data": {
      "text/plain": [
       "2021-08-30     0\n",
       "2022-11-29    10\n",
       "2023-05-28    20\n",
       "2024-05-28    30\n",
       "dtype: int64"
      ]
     },
     "execution_count": 77,
     "metadata": {},
     "output_type": "execute_result"
    }
   ],
   "source": [
    "index = pd.DatetimeIndex(['2021-08-30','29/11/2022','05/28/2023','05/28/2024'])\n",
    "\n",
    "data = pd.Series([0,10,20,30], index=index)\n",
    "\n",
    "data.head()"
   ]
  },
  {
   "cell_type": "code",
   "execution_count": 79,
   "metadata": {},
   "outputs": [
    {
     "data": {
      "text/plain": [
       "2021-08-30     0\n",
       "2022-11-29    10\n",
       "2023-05-28    20\n",
       "dtype: int64"
      ]
     },
     "execution_count": 79,
     "metadata": {},
     "output_type": "execute_result"
    }
   ],
   "source": [
    "d1 = data['2021':'2023']\n",
    "d1"
   ]
  },
  {
   "cell_type": "code",
   "execution_count": 83,
   "metadata": {},
   "outputs": [
    {
     "name": "stderr",
     "output_type": "stream",
     "text": [
      "C:\\Users\\Administrator\\AppData\\Local\\Temp\\ipykernel_1592\\1476682593.py:3: UserWarning: Parsing dates in DD/MM/YYYY format when dayfirst=False (the default) was specified. This may lead to inconsistently parsed dates! Specify a format to ensure consistent parsing.\n",
      "  conv_date = pd.to_datetime(s)\n"
     ]
    },
    {
     "data": {
      "text/plain": [
       "0   2022-01-15\n",
       "1   2022-11-29\n",
       "2   2023-05-28\n",
       "3   2024-05-28\n",
       "dtype: datetime64[ns]"
      ]
     },
     "execution_count": 83,
     "metadata": {},
     "output_type": "execute_result"
    }
   ],
   "source": [
    "s = pd.Series(['Jan 15, 2022','29/11/2022','05/28/2023','05/28/2024'])\n",
    "\n",
    "conv_date = pd.to_datetime(s)\n",
    "\n",
    "conv_date.head()"
   ]
  },
  {
   "cell_type": "code",
   "execution_count": 97,
   "metadata": {},
   "outputs": [
    {
     "name": "stdout",
     "output_type": "stream",
     "text": [
      "ts: 2020-01-15 00:00:00\n",
      "ts1: 2020-01-25 00:00:00\n",
      "ts2: 2020-01-15 05:30:00\n",
      "delta: 10 days 00:00:00\n",
      "dias: 10\n"
     ]
    },
    {
     "name": "stderr",
     "output_type": "stream",
     "text": [
      "C:\\Users\\Administrator\\AppData\\Local\\Temp\\ipykernel_1592\\2997907298.py:2: UserWarning: Parsing dates in DD/MM/YYYY format when dayfirst=False (the default) was specified. This may lead to inconsistently parsed dates! Specify a format to ensure consistent parsing.\n",
      "  ts = pd.Timestamp('15/01/2020')\n"
     ]
    }
   ],
   "source": [
    "# obter data\n",
    "ts = pd.Timestamp('15/01/2020')\n",
    "\n",
    "# adicionando mais dias (25/01/2020)\n",
    "ts1 = ts + pd.Timedelta(days = 10)\n",
    "\n",
    "# adicionando horas e minutos\n",
    "ts2 = ts + pd.Timedelta(hours=5, minutes=30)\n",
    "\n",
    "# fazendo uma operacao dentra do mes\n",
    "delta = ts1 - ts\n",
    "\n",
    "# pegando os dias do deltatime\n",
    "dias = delta.days\n",
    "\n",
    "print(f'ts: {ts}')\n",
    "print(f'ts1: {ts1}')\n",
    "print(f'ts2: {ts2}')\n",
    "print(f'delta: {delta}')\n",
    "print(f'dias: {dias}')\n"
   ]
  },
  {
   "cell_type": "code",
   "execution_count": 100,
   "metadata": {},
   "outputs": [
    {
     "name": "stdout",
     "output_type": "stream",
     "text": [
      "Data 01: 2000-01-15 00:00:00, Data 02: 2010-01-15 00:00:00, Diferencia: 3653 days 00:00:00, Dias: 31, Dias adicionado: 2010-02-15 00:00:00\n"
     ]
    },
    {
     "name": "stderr",
     "output_type": "stream",
     "text": [
      "C:\\Users\\Administrator\\AppData\\Local\\Temp\\ipykernel_1592\\3962032552.py:8: UserWarning: Parsing dates in DD/MM/YYYY format when dayfirst=False (the default) was specified. This may lead to inconsistently parsed dates! Specify a format to ensure consistent parsing.\n",
      "  ts1 = pd.Timestamp(data1)\n",
      "C:\\Users\\Administrator\\AppData\\Local\\Temp\\ipykernel_1592\\3962032552.py:9: UserWarning: Parsing dates in DD/MM/YYYY format when dayfirst=False (the default) was specified. This may lead to inconsistently parsed dates! Specify a format to ensure consistent parsing.\n",
      "  ts2 = pd.Timestamp(data2)\n"
     ]
    }
   ],
   "source": [
    "# MOD 03\n",
    "# LAB 01\n",
    "data1 = input('Informe a PRIMEIRA data: ')\n",
    "data2 = input('Informe a SEGUNDA data: ')\n",
    "\n",
    "dias = int(input('Agora informe o numero de dias: '))\n",
    "\n",
    "ts1 = pd.Timestamp(data1)\n",
    "ts2 = pd.Timestamp(data2)\n",
    "\n",
    "if ts1 > ts2:\n",
    "    difer = ts1 - ts2\n",
    "else:\n",
    "    difer = ts2 - ts1\n",
    "\n",
    "ts3 = ts2 + pd.Timedelta(days= dias)\n",
    "\n",
    "print(f'Data 01: {ts1}, Data 02: {ts2}, Diferencia: {difer}, Dias: {dias}, Dias adicionado: {ts3}')"
   ]
  },
  {
   "cell_type": "code",
   "execution_count": 110,
   "metadata": {},
   "outputs": [
    {
     "name": "stdout",
     "output_type": "stream",
     "text": [
      "0    a\n",
      "1    b\n",
      "2    c\n",
      "3    a\n",
      "dtype: category\n",
      "Categories (3, object): ['a', 'b', 'c'] \n",
      "\n",
      "['a', 'b', 'c', 'a', 'b', 'c', 'c']\n",
      "Categories (3, object): ['a', 'b', 'c'] \n",
      "\n",
      "['a', 'b', 'c', 'a', 'b', 'c', 'c']\n",
      "Categories (3, object): ['a' < 'b' < 'c']\n"
     ]
    }
   ],
   "source": [
    "# SERIES CATEGORIZADAS\n",
    "# DATAFRAMES COM VARIAVEIS CATEGORIZADAS\n",
    "# Sexo: Masculino e Feminino (0,1)\n",
    "# Periodos(periodos escolares): manha, tarde e noite\n",
    "# Regioes de uma: leste, oeste, norte e sul\n",
    "\n",
    "# Servir para agrupar elementes, caracteristicas\n",
    "# Nao podem sofrer alteracoes temporais\n",
    "\n",
    "s = pd.Series(['a', 'b', 'c', 'a'], dtype='category' )\n",
    "print(s,'\\n')\n",
    "\n",
    "c = pd.Categorical(['a', 'b', 'c', 'a', 'b', 'c', 'c'])\n",
    "print(c,'\\n')\n",
    "\n",
    "c1 = pd.Categorical(['a', 'b', 'c', 'a', 'b', 'c', 'c'], ordered=True)\n",
    "print(c1)\n"
   ]
  },
  {
   "cell_type": "code",
   "execution_count": null,
   "metadata": {},
   "outputs": [],
   "source": []
  }
 ],
 "metadata": {
  "kernelspec": {
   "display_name": "Python 3",
   "language": "python",
   "name": "python3"
  },
  "language_info": {
   "codemirror_mode": {
    "name": "ipython",
    "version": 3
   },
   "file_extension": ".py",
   "mimetype": "text/x-python",
   "name": "python",
   "nbconvert_exporter": "python",
   "pygments_lexer": "ipython3",
   "version": "3.10.8"
  },
  "orig_nbformat": 4,
  "vscode": {
   "interpreter": {
    "hash": "3196968d684371006099b3d55edeef8ed90365227a30deaef86e5d4aa8519be0"
   }
  }
 },
 "nbformat": 4,
 "nbformat_minor": 2
}
