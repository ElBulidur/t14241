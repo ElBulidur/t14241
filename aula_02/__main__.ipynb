{
 "cells": [
  {
   "cell_type": "markdown",
   "metadata": {},
   "source": [
    "### reaproveitando dados"
   ]
  },
  {
   "cell_type": "code",
   "execution_count": 5,
   "metadata": {},
   "outputs": [],
   "source": [
    "alunos = ['Ana', 'Jefesson', 'Lucas', 'Paulo', 'Talita', 'Meggy']\n",
    "disciplinas = ['series', 'dataframe', 'plotagem', 'machine learning']"
   ]
  },
  {
   "cell_type": "code",
   "execution_count": 68,
   "metadata": {},
   "outputs": [],
   "source": [
    "from numpy.random import randint # Gera numeros inteiros aleatoria\n",
    "\n",
    "# adicionando notas de 0 a 10 aleatorio aos alunos de acordo com as disciplinas\n",
    "# Criei um dicionario com os nomes dos alunos e suas disciplinas com notas\n",
    "alunos_com_notas = {}\n",
    "\n",
    "for aluno in alunos:\n",
    "    alunos_com_notas[aluno] = []\n",
    "    \n",
    "    for disciplina in disciplinas:\n",
    "        alunos_com_notas[aluno].append(randint(0,10))\n"
   ]
  },
  {
   "cell_type": "code",
   "execution_count": 69,
   "metadata": {},
   "outputs": [
    {
     "data": {
      "text/html": [
       "<div>\n",
       "<style scoped>\n",
       "    .dataframe tbody tr th:only-of-type {\n",
       "        vertical-align: middle;\n",
       "    }\n",
       "\n",
       "    .dataframe tbody tr th {\n",
       "        vertical-align: top;\n",
       "    }\n",
       "\n",
       "    .dataframe thead th {\n",
       "        text-align: right;\n",
       "    }\n",
       "</style>\n",
       "<table border=\"1\" class=\"dataframe\">\n",
       "  <thead>\n",
       "    <tr style=\"text-align: right;\">\n",
       "      <th></th>\n",
       "      <th>Ana</th>\n",
       "      <th>Jefesson</th>\n",
       "      <th>Lucas</th>\n",
       "      <th>Paulo</th>\n",
       "      <th>Talita</th>\n",
       "      <th>Meggy</th>\n",
       "    </tr>\n",
       "  </thead>\n",
       "  <tbody>\n",
       "    <tr>\n",
       "      <th>series</th>\n",
       "      <td>6</td>\n",
       "      <td>1</td>\n",
       "      <td>8</td>\n",
       "      <td>9</td>\n",
       "      <td>9</td>\n",
       "      <td>0</td>\n",
       "    </tr>\n",
       "    <tr>\n",
       "      <th>dataframe</th>\n",
       "      <td>1</td>\n",
       "      <td>4</td>\n",
       "      <td>0</td>\n",
       "      <td>6</td>\n",
       "      <td>1</td>\n",
       "      <td>5</td>\n",
       "    </tr>\n",
       "    <tr>\n",
       "      <th>plotagem</th>\n",
       "      <td>3</td>\n",
       "      <td>0</td>\n",
       "      <td>2</td>\n",
       "      <td>4</td>\n",
       "      <td>7</td>\n",
       "      <td>5</td>\n",
       "    </tr>\n",
       "    <tr>\n",
       "      <th>machine learning</th>\n",
       "      <td>3</td>\n",
       "      <td>9</td>\n",
       "      <td>8</td>\n",
       "      <td>2</td>\n",
       "      <td>5</td>\n",
       "      <td>4</td>\n",
       "    </tr>\n",
       "  </tbody>\n",
       "</table>\n",
       "</div>"
      ],
      "text/plain": [
       "                  Ana  Jefesson  Lucas  Paulo  Talita  Meggy\n",
       "series              6         1      8      9       9      0\n",
       "dataframe           1         4      0      6       1      5\n",
       "plotagem            3         0      2      4       7      5\n",
       "machine learning    3         9      8      2       5      4"
      ]
     },
     "execution_count": 69,
     "metadata": {},
     "output_type": "execute_result"
    }
   ],
   "source": [
    "# CRIAR DATAFRAME E UM ARQUIVO CSV\n",
    "import pandas as pd\n",
    "\n",
    "\n",
    "df_alunos = pd.DataFrame(alunos_com_notas, index=disciplinas)\n",
    "df_alunos.to_csv('alunos.csv') #, sep=';'\n",
    "df_alunos"
   ]
  },
  {
   "cell_type": "code",
   "execution_count": 70,
   "metadata": {},
   "outputs": [
    {
     "data": {
      "text/plain": [
       "pandas.core.frame.DataFrame"
      ]
     },
     "execution_count": 70,
     "metadata": {},
     "output_type": "execute_result"
    }
   ],
   "source": [
    "# LER O ARQUIVO CSV\n",
    "\n",
    "df = pd.read_csv('alunos.csv')\n",
    "type(df)"
   ]
  },
  {
   "cell_type": "code",
   "execution_count": 71,
   "metadata": {},
   "outputs": [
    {
     "data": {
      "text/plain": [
       "pandas.core.series.Series"
      ]
     },
     "execution_count": 71,
     "metadata": {},
     "output_type": "execute_result"
    }
   ],
   "source": [
    "# criando series\n",
    "\n",
    "#s_ana = pd.Series(df['Ana'])\n",
    "s_ana = df['Ana']\n",
    "type(s_ana)"
   ]
  },
  {
   "cell_type": "code",
   "execution_count": 134,
   "metadata": {},
   "outputs": [
    {
     "data": {
      "text/plain": [
       "Index(['series', 'dataframe', 'plotagem', 'machine learning'], dtype='object')"
      ]
     },
     "execution_count": 134,
     "metadata": {},
     "output_type": "execute_result"
    }
   ],
   "source": [
    "# vendo alguns atributos\n",
    "# s_ana.name = 'notas da ana' # definir outro nome para a serie\n",
    "s_ana.name\n",
    "\n",
    "#Altera o valor do indice da serie\n",
    "s_ana.index = ['series', 'dataframe', 'plotagem', 'machine learning'] \n",
    "s_ana.index"
   ]
  },
  {
   "cell_type": "code",
   "execution_count": 73,
   "metadata": {},
   "outputs": [
    {
     "data": {
      "text/plain": [
       "<AxesSubplot: >"
      ]
     },
     "execution_count": 73,
     "metadata": {},
     "output_type": "execute_result"
    },
    {
     "data": {
      "image/png": "[encoded data removed]",
      "text/plain": [
       "<Figure size 640x480 with 1 Axes>"
      ]
     },
     "metadata": {},
     "output_type": "display_data"
    }
   ],
   "source": [
    "# plotagem\n",
    "# s_ana.plot() plotagem rapida\n",
    "#s_ana.plot.bar() #grafico em barra\n",
    "s_ana.plot.area(legend='Ana', color='red')"
   ]
  },
  {
   "cell_type": "code",
   "execution_count": 96,
   "metadata": {},
   "outputs": [
    {
     "name": "stdout",
     "output_type": "stream",
     "text": [
      "('series', 6)\n",
      "('dataframe', 5)\n",
      "('plotagem', 3)\n",
      "('machine learning', 3)\n"
     ]
    }
   ],
   "source": [
    "# verificar informacoes(dados)\n",
    "\n",
    "valor2 = 3 in s_ana.values\n",
    "valor2\n",
    "\n",
    "# ler os dados\n",
    "for item in s_ana:\n",
    "    pass\n",
    "    #print(item)\n",
    "    \n",
    "for item in s_ana.iteritems(): #pega (chave,valor) como tupla. s_ana.items()\n",
    "    if item[1] < 2:\n",
    "        s_ana[item[0]] = 5"
   ]
  },
  {
   "cell_type": "code",
   "execution_count": 98,
   "metadata": {},
   "outputs": [
    {
     "data": {
      "text/plain": [
       "series              6\n",
       "dataframe           5\n",
       "plotagem            3\n",
       "machine learning    3\n",
       "Name: Ana, dtype: int64"
      ]
     },
     "execution_count": 98,
     "metadata": {},
     "output_type": "execute_result"
    }
   ],
   "source": [
    "s_ana"
   ]
  },
  {
   "cell_type": "code",
   "execution_count": 116,
   "metadata": {},
   "outputs": [
    {
     "data": {
      "text/plain": [
       "series      6\n",
       "plotagem    3\n",
       "Name: Ana, dtype: int64"
      ]
     },
     "execution_count": 116,
     "metadata": {},
     "output_type": "execute_result"
    }
   ],
   "source": [
    "# buscando dados\n",
    "s_ana[0:2]\n",
    "x = s_ana[[0,2]]\n",
    "x = s_ana[['series','plotagem']]\n",
    "\n",
    "# iloc e loc\n",
    "x = s_ana.iloc[0:2]\n",
    "x = s_ana.iloc[[0,2]]\n",
    "x = s_ana.loc['series':'plotagem']\n",
    "x = s_ana.loc[['series','plotagem']]\n",
    "\n",
    "type(x)\n",
    "x"
   ]
  },
  {
   "cell_type": "code",
   "execution_count": 128,
   "metadata": {},
   "outputs": [
    {
     "data": {
      "text/plain": [
       "<AxesSubplot: >"
      ]
     },
     "execution_count": 128,
     "metadata": {},
     "output_type": "execute_result"
    },
    {
     "data": {
      "image/png": "[encoded data removed]",
      "text/plain": [
       "<Figure size 640x480 with 1 Axes>"
      ]
     },
     "metadata": {},
     "output_type": "display_data"
    }
   ],
   "source": [
    "# operacoes com series\n",
    "disciplinas = ['series', 'dataframe', 'plotagem', 'machine learning']\n",
    "s_notas_ana_md_02 = pd.Series([2,3,5,4], index=disciplinas, name='notas modulo 02')\n",
    "\n",
    "#modulo01 = [6,5,3,3]\n",
    "#modulo02 = [2,3,5,4]\n",
    "\n",
    "#nota final = md01 + md02 /2\n",
    "\n",
    "#soma simples\n",
    "s_ana_mais_2 = s_ana + 2\n",
    "\n",
    "# notas + novas_notas\n",
    "s_notas_finais = (s_ana + s_notas_ana_md_02) / 2\n",
    "\n",
    "s_ana.name = 'md01'\n",
    "s_notas_finais.name = 'nota final'\n",
    "s_notas_ana_md_02.name = 'md02'\n",
    "\n",
    "s_ana.plot(legend='md01')\n",
    "s_notas_ana_md_02.plot(legend='md02')\n",
    "s_notas_finais.plot(legend='nota final')"
   ]
  },
  {
   "cell_type": "code",
   "execution_count": 148,
   "metadata": {},
   "outputs": [
    {
     "data": {
      "text/plain": [
       "6"
      ]
     },
     "execution_count": 148,
     "metadata": {},
     "output_type": "execute_result"
    }
   ],
   "source": [
    "# verificar informacoes estatisticas\n",
    "\n",
    "# Linhas afetadas NaN\n",
    "s_ana.shape[0]\n",
    "\n",
    "#informacoes gerais\n",
    "#s_ana.info()\n",
    "\n",
    "#Resumo estatistico\n",
    "s_ana.describe()\n",
    "\n",
    "# Contagem de registro com valores\n",
    "s_ana.count()\n",
    "\n",
    "# mostra a media\n",
    "s_ana.mean()\n",
    "\n",
    "# menor valor\n",
    "s_ana.min()\n",
    "\n",
    "# maior valor\n",
    "s_ana.max()\n"
   ]
  },
  {
   "cell_type": "code",
   "execution_count": 236,
   "metadata": {},
   "outputs": [
    {
     "data": {
      "text/plain": [
       "series              NaN\n",
       "dataframe             0\n",
       "plotagem            sem\n",
       "machine learning      8\n",
       "Name: Lucas, dtype: object"
      ]
     },
     "execution_count": 236,
     "metadata": {},
     "output_type": "execute_result"
    }
   ],
   "source": [
    "df1 = pd.read_csv('alunos1.csv')\n",
    "s_lucas = df1['Lucas']\n",
    "s_lucas.index = disciplinas\n",
    "s_lucas"
   ]
  },
  {
   "cell_type": "code",
   "execution_count": 237,
   "metadata": {},
   "outputs": [
    {
     "name": "stdout",
     "output_type": "stream",
     "text": [
      "A series nao tem valor\n",
      "A dataframe tem valor\n",
      "A plotagem tem valor\n",
      "A machine learning tem valor\n"
     ]
    },
    {
     "data": {
      "text/plain": [
       "series              NaN\n",
       "dataframe             0\n",
       "plotagem            sem\n",
       "machine learning      8\n",
       "Name: Lucas, dtype: object"
      ]
     },
     "execution_count": 237,
     "metadata": {},
     "output_type": "execute_result"
    }
   ],
   "source": [
    "# mostra numero de linhas afetadas\n",
    "from pandas import isnull, notnull\n",
    "import numpy as np\n",
    "\n",
    "\n",
    "s_lucas.shape[0]\n",
    "# mostra numero de linhas com valores\n",
    "s_lucas.count()\n",
    "\n",
    "# Verificar quantos valores nulos\n",
    "x = s_lucas.shape[0] - s_lucas.count()\n",
    "x\n",
    "\n",
    "#fazer operacoes em valores nulos\n",
    "val_null = 0\n",
    "for item in s_lucas.items():\n",
    "    if isnull(item[1]):\n",
    "        val_null += 1\n",
    "        print(f'A {item[0]} nao tem valor')\n",
    "        #s_lucas[item[0]] = 0\n",
    "    if notnull(item[1]):\n",
    "        print(f'A {item[0]} tem valor')\n",
    "        \n",
    "val_null\n",
    "s_lucas\n"
   ]
  },
  {
   "cell_type": "code",
   "execution_count": 258,
   "metadata": {},
   "outputs": [
    {
     "data": {
      "text/plain": [
       "series              5\n",
       "dataframe           0\n",
       "plotagem            0\n",
       "machine learning    8\n",
       "Name: Lucas, dtype: int64"
      ]
     },
     "execution_count": 258,
     "metadata": {},
     "output_type": "execute_result"
    }
   ],
   "source": [
    "# Modificar valores nulos por outro\n",
    "s_lucas = s_lucas.fillna(5)\n",
    "# arranca a linha com valor nulo\n",
    "#s_lucas.dropna()\n",
    "\n",
    "type(s_lucas['dataframe'])\n",
    "#s_lucas['dataframe'] = int(s_lucas['dataframe'])\n",
    "s_lucas"
   ]
  },
  {
   "cell_type": "code",
   "execution_count": 260,
   "metadata": {},
   "outputs": [
    {
     "data": {
      "text/plain": [
       "series              5\n",
       "dataframe           0\n",
       "plotagem            0\n",
       "machine learning    8\n",
       "Name: Lucas, dtype: int64"
      ]
     },
     "execution_count": 260,
     "metadata": {},
     "output_type": "execute_result"
    }
   ],
   "source": [
    "\n",
    "for item in s_lucas.items(): \n",
    "    if type(item[1]) != int: \n",
    "        if item[1].isdigit():\n",
    "            s_lucas[item[0]] = int(item[1]) \n",
    "        else:\n",
    "            s_lucas[item[0]] = 0\n",
    "        #print(type(item[1]))\n",
    "\n",
    "# type(s_lucas[1])\n",
    "# int(s_lucas[1])\n",
    "# type(int(s_lucas[1]))\n",
    "s_lucas"
   ]
  },
  {
   "cell_type": "code",
   "execution_count": 267,
   "metadata": {},
   "outputs": [
    {
     "data": {
      "text/plain": [
       "series              5.00\n",
       "dataframe           0.00\n",
       "plotagem            0.00\n",
       "machine learning    8.00\n",
       "media               3.25\n",
       "Name: Lucas, dtype: float64"
      ]
     },
     "execution_count": 267,
     "metadata": {},
     "output_type": "execute_result"
    }
   ],
   "source": [
    "\n",
    "media = s_lucas.mean()\n",
    "s_lucas['media'] = media\n",
    "s_lucas"
   ]
  },
  {
   "cell_type": "code",
   "execution_count": 259,
   "metadata": {},
   "outputs": [
    {
     "name": "stdout",
     "output_type": "stream",
     "text": [
      "nao e digito!\n"
     ]
    }
   ],
   "source": [
    "# analise de variavel string\n",
    "x = 'sem'\n",
    "if x.isdigit():\n",
    "    print('e digito!')\n",
    "else:\n",
    "    print('nao e digito!')\n"
   ]
  }
 ],
 "metadata": {
  "kernelspec": {
   "display_name": "Python 3.10.7 64-bit",
   "language": "python",
   "name": "python3"
  },
  "language_info": {
   "codemirror_mode": {
    "name": "ipython",
    "version": 3
   },
   "file_extension": ".py",
   "mimetype": "text/x-python",
   "name": "python",
   "nbconvert_exporter": "python",
   "pygments_lexer": "ipython3",
   "version": "3.10.7"
  },
  "orig_nbformat": 4,
  "vscode": {
   "interpreter": {
    "hash": "3196968d684371006099b3d55edeef8ed90365227a30deaef86e5d4aa8519be0"
   }
  }
 },
 "nbformat": 4,
 "nbformat_minor": 2
}
