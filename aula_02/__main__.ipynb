{
 "cells": [
  {
   "cell_type": "markdown",
   "metadata": {},
   "source": [
    "### reaproveitando dados"
   ]
  },
  {
   "cell_type": "code",
   "execution_count": 5,
   "metadata": {},
   "outputs": [],
   "source": [
    "alunos = ['Ana', 'Jefesson', 'Lucas', 'Paulo', 'Talita', 'Meggy']\n",
    "disciplinas = ['series', 'dataframe', 'plotagem', 'machine learning']"
   ]
  },
  {
   "cell_type": "code",
   "execution_count": 7,
   "metadata": {},
   "outputs": [],
   "source": [
    "from numpy.random import randint # Gera numeros inteiros aleatoria\n",
    "\n",
    "# adicionando notas de 0 a 10 aleatorio aos alunos de acordo com as disciplinas\n",
    "# Criei um dicionario com os nomes dos alunos e suas disciplinas com notas\n",
    "alunos_com_notas = {}\n",
    "\n",
    "for aluno in alunos:\n",
    "    alunos_com_notas[aluno] = []\n",
    "    \n",
    "    for disciplina in disciplinas:\n",
    "        alunos_com_notas[aluno].append({disciplina:randint(0,10)})\n"
   ]
  }
 ],
 "metadata": {
  "kernelspec": {
   "display_name": "Python 3.10.7 64-bit",
   "language": "python",
   "name": "python3"
  },
  "language_info": {
   "codemirror_mode": {
    "name": "ipython",
    "version": 3
   },
   "file_extension": ".py",
   "mimetype": "text/x-python",
   "name": "python",
   "nbconvert_exporter": "python",
   "pygments_lexer": "ipython3",
   "version": "3.10.7"
  },
  "orig_nbformat": 4,
  "vscode": {
   "interpreter": {
    "hash": "3196968d684371006099b3d55edeef8ed90365227a30deaef86e5d4aa8519be0"
   }
  }
 },
 "nbformat": 4,
 "nbformat_minor": 2
}
